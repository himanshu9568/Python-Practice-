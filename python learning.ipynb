{
 "cells": [
  {
   "cell_type": "markdown",
   "metadata": {
    "slideshow": {
     "slide_type": "subslide"
    }
   },
   "source": [
    "----------------------\n",
    " PYTHON  \n",
    "--------------------"
   ]
  },
  {
   "cell_type": "code",
   "execution_count": 1,
   "metadata": {},
   "outputs": [],
   "source": [
    "import sys\n",
    "import keyword\n",
    "import operator\n",
    "from datetime import datetime\n",
    "import os"
   ]
  },
  {
   "cell_type": "code",
   "execution_count": 2,
   "metadata": {},
   "outputs": [
    {
     "name": "stdout",
     "output_type": "stream",
     "text": [
      "5 is odd \n",
      "6 is even  \n",
      "function will check the number is odd or even \n"
     ]
    }
   ],
   "source": [
    "def even_odd(num):\n",
    "     '''function will check the number is odd or even '''\n",
    "     if num%2 == 0:\n",
    "          print (\"{} is even  \".format(num))\n",
    "     else:\n",
    "          print(\"{} is odd \".format(num))\n",
    "even_odd(5)\n",
    "even_odd(6)\n",
    "print(even_odd.__doc__) #print function documnetation string"
   ]
  },
  {
   "cell_type": "code",
   "execution_count": 3,
   "metadata": {},
   "outputs": [
    {
     "name": "stdout",
     "output_type": "stream",
     "text": [
      "HIMANSHU  PEWAL \n"
     ]
    }
   ],
   "source": [
    "def fullname (firstname,middlename,lastname):\n",
    "    fullname = (\"{} {} {} \".format(firstname,middlename,lastname))\n",
    "    print(fullname.upper())\n",
    "fullname(\"himanshu\",\"\", \"pewal\")"
   ]
  },
  {
   "cell_type": "code",
   "execution_count": 4,
   "metadata": {},
   "outputs": [
    {
     "name": "stdout",
     "output_type": "stream",
     "text": [
      "Most Populous City :-  Mumbai\n"
     ]
    }
   ],
   "source": [
    "def myfuc(city = \"Mumbai\"):\n",
    "    print('Most Populous City :- ', city)\n",
    "\n",
    "\n",
    "myfuc()"
   ]
  },
  {
   "cell_type": "code",
   "execution_count": 5,
   "metadata": {},
   "outputs": [
    {
     "name": "stdout",
     "output_type": "stream",
     "text": [
      "100\n",
      "100\n"
     ]
    }
   ],
   "source": [
    "var1 = 100 \n",
    "def myfunc():\n",
    "    print(var1) \n",
    "\n",
    "myfunc()\n",
    "print(var1)"
   ]
  },
  {
   "cell_type": "code",
   "execution_count": 6,
   "metadata": {},
   "outputs": [
    {
     "name": "stdout",
     "output_type": "stream",
     "text": [
      "10\n"
     ]
    },
    {
     "ename": "NameError",
     "evalue": "name 'var2' is not defined",
     "output_type": "error",
     "traceback": [
      "\u001b[1;31m---------------------------------------------------------------------------\u001b[0m",
      "\u001b[1;31mNameError\u001b[0m                                 Traceback (most recent call last)",
      "\u001b[1;32mc:\\Users\\himan\\python learning.ipynb Cell 7\u001b[0m in \u001b[0;36m<cell line: 9>\u001b[1;34m()\u001b[0m\n\u001b[0;32m      <a href='vscode-notebook-cell:/c%3A/Users/himan/python%20learning.ipynb#W6sZmlsZQ%3D%3D?line=5'>6</a>\u001b[0m     \u001b[39mprint\u001b[39m(var2)\n\u001b[0;32m      <a href='vscode-notebook-cell:/c%3A/Users/himan/python%20learning.ipynb#W6sZmlsZQ%3D%3D?line=7'>8</a>\u001b[0m myfunc1()\n\u001b[1;32m----> <a href='vscode-notebook-cell:/c%3A/Users/himan/python%20learning.ipynb#W6sZmlsZQ%3D%3D?line=8'>9</a>\u001b[0m myfunc2()\n",
      "\u001b[1;32mc:\\Users\\himan\\python learning.ipynb Cell 7\u001b[0m in \u001b[0;36mmyfunc2\u001b[1;34m()\u001b[0m\n\u001b[0;32m      <a href='vscode-notebook-cell:/c%3A/Users/himan/python%20learning.ipynb#W6sZmlsZQ%3D%3D?line=4'>5</a>\u001b[0m \u001b[39mdef\u001b[39;00m \u001b[39mmyfunc2\u001b[39m():\n\u001b[1;32m----> <a href='vscode-notebook-cell:/c%3A/Users/himan/python%20learning.ipynb#W6sZmlsZQ%3D%3D?line=5'>6</a>\u001b[0m     \u001b[39mprint\u001b[39m(var2)\n",
      "\u001b[1;31mNameError\u001b[0m: name 'var2' is not defined"
     ]
    }
   ],
   "source": [
    "def myfunc1():\n",
    "    var2 = 10\n",
    "    print(var2)\n",
    "\n",
    "def myfunc2():\n",
    "    print(var2)\n",
    "\n",
    "myfunc1()\n",
    "myfunc2()\n",
    "    "
   ]
  },
  {
   "cell_type": "code",
   "execution_count": 7,
   "metadata": {},
   "outputs": [
    {
     "name": "stdout",
     "output_type": "stream",
     "text": [
      "99\n",
      "100\n"
     ]
    }
   ],
   "source": [
    "var1 =100 \n",
    "\n",
    "def myfunc():\n",
    "    var1 = 99\n",
    "    print(var1)\n",
    "\n",
    "myfunc()\n",
    "print(var1)"
   ]
  },
  {
   "cell_type": "code",
   "execution_count": 8,
   "metadata": {},
   "outputs": [
    {
     "name": "stdout",
     "output_type": "stream",
     "text": [
      "'list1' b4 calling function :-  [11, 22, 33, 44, 55]\n",
      "'list1' after calling function:-   [11, 22, 33, 44, 55, 100]\n"
     ]
    }
   ],
   "source": [
    "list1 =[11,22,33,44,55]\n",
    "\n",
    "def myfunc(list1):\n",
    "    list1.append(100)\n",
    "\n",
    "print(\"'list1' b4 calling function :- \",list1)\n",
    "myfunc(list1)\n",
    "print(\"'list1' after calling function:-  \",list1)"
   ]
  },
  {
   "cell_type": "code",
   "execution_count": 9,
   "metadata": {},
   "outputs": [
    {
     "data": {
      "text/plain": [
       "(10, 20)"
      ]
     },
     "execution_count": 9,
     "metadata": {},
     "output_type": "execute_result"
    }
   ],
   "source": [
    "def swap(a,b):\n",
    "    temp = a\n",
    "    a=b\n",
    "    b=temp\n",
    "a=10\n",
    "b=20\n",
    "swap(a,b)\n",
    "a,b\n"
   ]
  },
  {
   "cell_type": "code",
   "execution_count": 10,
   "metadata": {},
   "outputs": [
    {
     "data": {
      "text/plain": [
       "120"
      ]
     },
     "execution_count": 10,
     "metadata": {},
     "output_type": "execute_result"
    }
   ],
   "source": [
    "def factorial (num):\n",
    "    if num <=1:\n",
    "        return 1\n",
    "    else:\n",
    "        return num * factorial(num-1)\n",
    "factorial(5)"
   ]
  },
  {
   "cell_type": "code",
   "execution_count": 11,
   "metadata": {},
   "outputs": [
    {
     "data": {
      "text/plain": [
       "15"
      ]
     },
     "execution_count": 11,
     "metadata": {},
     "output_type": "execute_result"
    }
   ],
   "source": [
    "def sum_natural(n):\n",
    "    if n == 0:\n",
    "        return 0\n",
    "    else:\n",
    "        return n + sum_natural(n-1)\n",
    "sum_natural(5)\n"
   ]
  },
  {
   "cell_type": "markdown",
   "metadata": {},
   "source": []
  },
  {
   "cell_type": "code",
   "execution_count": 4,
   "metadata": {},
   "outputs": [
    {
     "name": "stdout",
     "output_type": "stream",
     "text": [
      "0\n",
      "0\n",
      "1\n",
      "1\n",
      "2\n",
      "3\n",
      "5\n",
      "8\n",
      "13\n",
      "21\n",
      "34\n",
      "55\n",
      "89\n",
      "144\n",
      "233\n"
     ]
    }
   ],
   "source": [
    "def fiboacci(n):\n",
    "    if n <= 1:\n",
    "        return 0\n",
    "    if n == 2:\n",
    "        return 1\n",
    "    else:\n",
    "        return (fiboacci(n-1) + fiboacci(n-2))\n",
    "    \n",
    "\n",
    "num = int(input(\"how many fibonacci numbers you want to generate - \"))\n",
    "\n",
    "for i in range(num):\n",
    "    print(fiboacci(i))"
   ]
  },
  {
   "cell_type": "code",
   "execution_count": 14,
   "metadata": {},
   "outputs": [
    {
     "name": "stdout",
     "output_type": "stream",
     "text": [
      "60\n"
     ]
    }
   ],
   "source": [
    "def add(a,b,c):\n",
    "    return a+b+c\n",
    "print (add(10,20,30))\n"
   ]
  },
  {
   "cell_type": "code",
   "execution_count": 15,
   "metadata": {},
   "outputs": [
    {
     "name": "stdout",
     "output_type": "stream",
     "text": [
      "60\n"
     ]
    }
   ],
   "source": [
    "print(add(10,20,30))"
   ]
  },
  {
   "cell_type": "code",
   "execution_count": 16,
   "metadata": {},
   "outputs": [
    {
     "name": "stdout",
     "output_type": "stream",
     "text": [
      "args_1:  1\n",
      "args_2:  2\n",
      "args_3:  3\n"
     ]
    }
   ],
   "source": [
    "def some_args(args_1, args_2, args_3):\n",
    "    print(\"args_1: \",args_1)\n",
    "    print(\"args_2: \",args_2)\n",
    "    print(\"args_3: \",args_3)\n",
    "\n",
    "mylist = [2,3]\n",
    "some_args(1,*mylist)"
   ]
  },
  {
   "cell_type": "code",
   "execution_count": 17,
   "metadata": {},
   "outputs": [],
   "source": [
    "def add1(*args):\n",
    "    return sum(args)\n"
   ]
  },
  {
   "cell_type": "code",
   "execution_count": 18,
   "metadata": {},
   "outputs": [
    {
     "data": {
      "text/plain": [
       "(28, 28)"
      ]
     },
     "execution_count": 18,
     "metadata": {},
     "output_type": "execute_result"
    }
   ],
   "source": [
    "list1 = [1,2,3,4,5,6,7]\n",
    "tuple1 = (1,2,3,4,5,6,7)\n",
    "\n",
    "add1(*list1) , add1(*tuple1)"
   ]
  },
  {
   "cell_type": "code",
   "execution_count": 19,
   "metadata": {},
   "outputs": [
    {
     "name": "stdout",
     "output_type": "stream",
     "text": [
      "('Himanshu', 5448, 41155, 33, 'India', 'Hindi')\n"
     ]
    }
   ],
   "source": [
    "def UserDetails(*args):\n",
    "    print(args)\n",
    "UserDetails('Himanshu' , 5448 , 41155 , 33 , \"India\" , \"Hindi\")"
   ]
  },
  {
   "cell_type": "code",
   "execution_count": 20,
   "metadata": {},
   "outputs": [
    {
     "name": "stdout",
     "output_type": "stream",
     "text": [
      "{'Name': 'Himanshu', 'ID': 5448, 'Pincode': 41155, 'Age': 33, 'Country': 'India', 'Lang': 'Hindi'}\n"
     ]
    }
   ],
   "source": [
    "def UserDetails(**kwargs):\n",
    "    print (kwargs)\n",
    "UserDetails(Name = 'Himanshu' ,ID =  5448 , Pincode =  41155 ,Age = 33 ,Country = \"India\" , Lang = \"Hindi\")\n"
   ]
  },
  {
   "cell_type": "code",
   "execution_count": 21,
   "metadata": {},
   "outputs": [
    {
     "name": "stdout",
     "output_type": "stream",
     "text": [
      "Name :- Himanshu\n",
      "ID :- 5448\n",
      "Pincode :- 41155\n",
      "Age :- 33\n",
      "Country :- India\n",
      "Lang :- Hindi\n"
     ]
    }
   ],
   "source": [
    "def UserDetails(**kwargs):\n",
    "    for key,val in kwargs.items():\n",
    "        print(\"{} :- {}\".format(key,val))\n",
    "UserDetails(Name = 'Himanshu' ,ID =  5448 , Pincode =  41155 ,Age = 33 ,Country = \"India\" , Lang = \"Hindi\")"
   ]
  },
  {
   "cell_type": "code",
   "execution_count": 22,
   "metadata": {},
   "outputs": [
    {
     "name": "stdout",
     "output_type": "stream",
     "text": [
      "Name :- Himanshu \n",
      "ID :- 5448 \n",
      "Pincode :- 41155 \n",
      "Age :- 33 \n",
      "Country :- India \n",
      "Lang :- Hindi \n"
     ]
    }
   ],
   "source": [
    "def UserDetails(**kwargs):\n",
    "    for key,val in kwargs.items():\n",
    "        print (\"{} :- {} \".format(key,val))\n",
    "UserDetails(Name = 'Himanshu' ,ID =  5448 , Pincode =  41155 ,Age = 33 ,Country = \"India\" , Lang = \"Hindi\")\n",
    "\n"
   ]
  },
  {
   "cell_type": "code",
   "execution_count": 23,
   "metadata": {},
   "outputs": [
    {
     "name": "stdout",
     "output_type": "stream",
     "text": [
      "Name :- Himanshu \n",
      "ID :- 5448 \n",
      "Pincode :- 41155 \n",
      "Age :- 33 \n",
      "Country :- India \n",
      "Lang :- Hindi \n"
     ]
    }
   ],
   "source": [
    "mydict = {\"Name\" :  'Himanshu' ,\"ID\" :  5448 , \"Pincode\" :  41155 ,\"Age\" : 33 ,\"Country\" : \"India\" , \"Lang\" : \"Hindi\"}\n",
    "UserDetails(**mydict)"
   ]
  },
  {
   "cell_type": "code",
   "execution_count": 24,
   "metadata": {},
   "outputs": [
    {
     "name": "stdout",
     "output_type": "stream",
     "text": [
      "license No :-  PWL124\n",
      "Full Name :-  Himanshu kumar Pewal\n",
      "Phone Number :-  789564332\n",
      "Name :- Himanshu \n",
      "ID :- 5448 \n",
      "Pincode :- 41155 \n",
      "Age :- 33 \n",
      "Country :- India \n",
      "Lang :- Hindi \n"
     ]
    }
   ],
   "source": [
    "def UserDetails(licenseNo, *args , phoneNo = 0, **kwargs):\n",
    "    print(\"license No :- \",licenseNo)\n",
    "    j = ''\n",
    "    for i in args:\n",
    "        j = j+i\n",
    "    print('Full Name :- ',j)\n",
    "    print(\"Phone Number :- \",phoneNo)\n",
    "    for key,val in kwargs.items():\n",
    "        print(\"{} :- {} \".format(key,val))\n",
    "\n",
    "name = ['Himanshu' , ' ' , 'kumar' , ' ','Pewal']\n",
    "mydict =  {\"Name\" :  'Himanshu' ,\"ID\" :  5448 , \"Pincode\" :  41155 ,\"Age\" : 33 ,\"Country\" : \"India\" , \"Lang\" : \"Hindi\"}\n",
    "\n",
    "UserDetails('PWL124' , *name , phoneNo=789564332 , **mydict)"
   ]
  },
  {
   "cell_type": "markdown",
   "metadata": {},
   "source": [
    "-------------\n",
    "Lambda\n",
    "-------------"
   ]
  },
  {
   "cell_type": "code",
   "execution_count": 25,
   "metadata": {},
   "outputs": [
    {
     "name": "stdout",
     "output_type": "stream",
     "text": [
      "209\n"
     ]
    }
   ],
   "source": [
    "addition = lambda a,b,c: a+b+c\n",
    "print(addition(55,66,88))"
   ]
  },
  {
   "cell_type": "code",
   "execution_count": 26,
   "metadata": {},
   "outputs": [
    {
     "name": "stdout",
     "output_type": "stream",
     "text": [
      "30\n"
     ]
    }
   ],
   "source": [
    "product = lambda a,b: a*b\n",
    "print(product(5,6))"
   ]
  },
  {
   "cell_type": "code",
   "execution_count": 27,
   "metadata": {},
   "outputs": [
    {
     "data": {
      "text/plain": [
       "(30, 60, 280)"
      ]
     },
     "execution_count": 27,
     "metadata": {},
     "output_type": "execute_result"
    }
   ],
   "source": [
    "res = (lambda *args:sum(args))\n",
    "res(10,20), res(10,20,30), res(10,20,30,40,50,60,70)"
   ]
  },
  {
   "cell_type": "code",
   "execution_count": 28,
   "metadata": {},
   "outputs": [
    {
     "data": {
      "text/plain": [
       "(60, 150)"
      ]
     },
     "execution_count": 28,
     "metadata": {},
     "output_type": "execute_result"
    }
   ],
   "source": [
    "res1 = (lambda **kwargs: sum(kwargs.values()))\n",
    "res1(a=10,b=20,c=30), res1(a=10,b=20,c=30,d=40,e=50)"
   ]
  },
  {
   "cell_type": "code",
   "execution_count": 29,
   "metadata": {},
   "outputs": [
    {
     "data": {
      "text/plain": [
       "(60, 150)"
      ]
     },
     "execution_count": 29,
     "metadata": {},
     "output_type": "execute_result"
    }
   ],
   "source": [
    "res1 = (lambda **kwargs: sum(kwargs.values())) \n",
    "res1(a=10, b=20, c=30),res1(a =10, b =20, c = 30, d =40, e = 50)"
   ]
  },
  {
   "cell_type": "code",
   "execution_count": 30,
   "metadata": {},
   "outputs": [
    {
     "data": {
      "text/plain": [
       "(60, 150)"
      ]
     },
     "execution_count": 30,
     "metadata": {},
     "output_type": "execute_result"
    }
   ],
   "source": [
    "def product (num):\n",
    "    total = 1\n",
    "    for i in num:\n",
    "        return total\n",
    "    \n",
    "\n",
    "res1 = (lambda **kwargs: sum(kwargs.values())) \n",
    "res1(a=10, b=20, c=30), res1(a =10, b =20, c = 30, d =40, e = 50)"
   ]
  },
  {
   "cell_type": "code",
   "execution_count": 31,
   "metadata": {},
   "outputs": [
    {
     "data": {
      "text/plain": [
       "(6000, 12000000)"
      ]
     },
     "execution_count": 31,
     "metadata": {},
     "output_type": "execute_result"
    }
   ],
   "source": [
    "def product1(nums):\n",
    "    total = 1\n",
    "    for i in nums:\n",
    "        total *=i\n",
    "    return total\n",
    "    \n",
    "\n",
    "res1 = (lambda **kwargs: product1(kwargs.values()))\n",
    "res1(a=10, b=20, c=30), res1(a = 10, b =20, c =30, d =40, e = 50)"
   ]
  },
  {
   "cell_type": "code",
   "execution_count": 32,
   "metadata": {},
   "outputs": [
    {
     "name": "stdout",
     "output_type": "stream",
     "text": [
      "15\n",
      "25\n"
     ]
    }
   ],
   "source": [
    "def myfunc(n):\n",
    "    return lambda a: a + n\n",
    "add10 = myfunc(10)\n",
    "print(add10(5))\n",
    "\n",
    "add20 = myfunc(20)\n",
    "print(add20(5))"
   ]
  },
  {
   "cell_type": "code",
   "execution_count": 33,
   "metadata": {},
   "outputs": [
    {
     "data": {
      "text/plain": [
       "[1, 3, 5, 7, 9]"
      ]
     },
     "execution_count": 33,
     "metadata": {},
     "output_type": "execute_result"
    }
   ],
   "source": [
    "list1 = [1,2,3,4,5,6,7,8,9]\n",
    "\n",
    "def odd(n):\n",
    "    if n%2 != 0:\n",
    "        return True\n",
    "    else:\n",
    "        return False\n",
    "    \n",
    "\n",
    "odd_num = list(filter(odd,list1))\n",
    "odd_num    "
   ]
  },
  {
   "cell_type": "code",
   "execution_count": 34,
   "metadata": {},
   "outputs": [
    {
     "data": {
      "text/plain": [
       "[1, 3, 5, 7, 9]"
      ]
     },
     "execution_count": 34,
     "metadata": {},
     "output_type": "execute_result"
    }
   ],
   "source": [
    "list1  = [1,2,3,4,5,6,7,8,9]\n",
    "\n",
    "odd_num = list(filter(lambda n :n%2 == 1, list1))\n",
    "odd_num"
   ]
  },
  {
   "cell_type": "code",
   "execution_count": 35,
   "metadata": {},
   "outputs": [
    {
     "data": {
      "text/plain": [
       "[2, 6, 10, 14, 18]"
      ]
     },
     "execution_count": 35,
     "metadata": {},
     "output_type": "execute_result"
    }
   ],
   "source": [
    "def twice(n):\n",
    "    return n*2\n",
    "\n",
    "doubles = list(map(twice,odd_num))\n",
    "doubles"
   ]
  },
  {
   "cell_type": "code",
   "execution_count": 36,
   "metadata": {},
   "outputs": [
    {
     "data": {
      "text/plain": [
       "[2, 6, 10, 14, 18]"
      ]
     },
     "execution_count": 36,
     "metadata": {},
     "output_type": "execute_result"
    }
   ],
   "source": [
    "doubles2 = list(map(lambda n : n*2 ,odd_num))\n",
    "doubles2"
   ]
  },
  {
   "cell_type": "code",
   "execution_count": 37,
   "metadata": {},
   "outputs": [
    {
     "data": {
      "text/plain": [
       "50"
      ]
     },
     "execution_count": 37,
     "metadata": {},
     "output_type": "execute_result"
    }
   ],
   "source": [
    "from  functools import reduce\n",
    "\n",
    "def add(a,b):\n",
    "    return a+b\n",
    "\n",
    "sum_all = reduce(add,doubles2)\n",
    "sum_all\n"
   ]
  },
  {
   "cell_type": "code",
   "execution_count": 38,
   "metadata": {},
   "outputs": [
    {
     "data": {
      "text/plain": [
       "50"
      ]
     },
     "execution_count": 38,
     "metadata": {},
     "output_type": "execute_result"
    }
   ],
   "source": [
    "sum_all2 = reduce(lambda a,b : a+b,doubles2)\n",
    "sum_all2"
   ]
  },
  {
   "cell_type": "code",
   "execution_count": 39,
   "metadata": {},
   "outputs": [
    {
     "data": {
      "text/plain": [
       "50"
      ]
     },
     "execution_count": 39,
     "metadata": {},
     "output_type": "execute_result"
    }
   ],
   "source": [
    "#putting all in one\n",
    "\n",
    "sum_all3 = reduce(lambda a,b: a+b ,list(map(lambda n: n*2,list(filter(lambda n: n%2 ==1,list1)))) )\n",
    "sum_all3"
   ]
  },
  {
   "cell_type": "markdown",
   "metadata": {},
   "source": [
    "---------------MORE EXAMPLE------( MAP, FILTER, REDUCE)--------"
   ]
  },
  {
   "cell_type": "code",
   "execution_count": 40,
   "metadata": {},
   "outputs": [
    {
     "name": "stdout",
     "output_type": "stream",
     "text": [
      "----------\n",
      "[2, 4, 6, 8, 10]\n",
      "[1, 3, 5, 7, 9]\n",
      "----------\n",
      "['TWO', 'FOUR']\n",
      "['one', 'three']\n",
      "----------\n"
     ]
    }
   ],
   "source": [
    "\n",
    "#####--------Odd-Even-check------\n",
    "list1= [1,2,3,4,5,6,7,8,9,10]\n",
    "#filtering even  \n",
    "even = list(filter(lambda n: n%2 ==0,list1)) \n",
    "\n",
    "#filtering odd \n",
    "odd = list(filter(lambda n: n%2 !=0,list1))\n",
    "\n",
    "print(\"----------\")\n",
    "print(even)\n",
    "print(odd)\n",
    "print(\"----------\")\n",
    "\n",
    "#### lowercase ---- uppercase----------\n",
    "\n",
    "list2 = [\"one\",\"TWO\",\"three\",\"FOUR\"]\n",
    "#filter upper-case string. \n",
    "upper = list(filter(lambda x:x.isupper(),list2))\n",
    "#filter lower-case string.\n",
    "lower = list(filter(lambda x:x.islower(),list2))\n",
    "\n",
    "\n",
    "print(upper)\n",
    "print(lower)\n",
    "print(\"----------\")"
   ]
  },
  {
   "cell_type": "code",
   "execution_count": 41,
   "metadata": {},
   "outputs": [
    {
     "name": "stdout",
     "output_type": "stream",
     "text": [
      "1\n",
      "4\n"
     ]
    }
   ],
   "source": [
    "\n",
    "from functools import reduce\n",
    "\n",
    "list2 = [1,2,3,4]\n",
    "\n",
    "\n",
    "\n",
    "min_num = reduce(lambda a,b : a if a<b else b,list2)\n",
    "\n",
    "max_num = reduce(lambda a,b : a if a>b else b,list2)\n",
    "\n",
    "\n",
    "print(min_num)\n",
    "print(max_num)"
   ]
  },
  {
   "cell_type": "code",
   "execution_count": 42,
   "metadata": {},
   "outputs": [
    {
     "name": "stdout",
     "output_type": "stream",
     "text": [
      "Hello Hello Hello \n"
     ]
    }
   ],
   "source": [
    "prod = reduce(operator.mul,['Hello ', 3])\n",
    "print(prod)"
   ]
  },
  {
   "cell_type": "markdown",
   "metadata": {},
   "source": [
    "----------------------END-----------------"
   ]
  }
 ],
 "metadata": {
  "kernelspec": {
   "display_name": "Python 3.9.12 ('base')",
   "language": "python",
   "name": "python3"
  },
  "language_info": {
   "codemirror_mode": {
    "name": "ipython",
    "version": 3
   },
   "file_extension": ".py",
   "mimetype": "text/x-python",
   "name": "python",
   "nbconvert_exporter": "python",
   "pygments_lexer": "ipython3",
   "version": "3.9.12"
  },
  "orig_nbformat": 4,
  "vscode": {
   "interpreter": {
    "hash": "518071c88b4194aee059da36c8bb8c7f03edabff5e31c99a4f47aa39aa99e517"
   }
  }
 },
 "nbformat": 4,
 "nbformat_minor": 2
}
