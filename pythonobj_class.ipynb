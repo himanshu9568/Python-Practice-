{
 "cells": [
  {
   "cell_type": "markdown",
   "metadata": {},
   "source": [
    "Classes & Objects"
   ]
  },
  {
   "cell_type": "code",
   "execution_count": 1,
   "metadata": {},
   "outputs": [
    {
     "name": "stdout",
     "output_type": "stream",
     "text": [
      "10\n"
     ]
    }
   ],
   "source": [
    "#create a class with property \"var1\"\n",
    "\n",
    "class myclass:\n",
    "    var1 =10\n",
    "obj1 = myclass()\n",
    "print(obj1.var1)"
   ]
  },
  {
   "cell_type": "code",
   "execution_count": 4,
   "metadata": {},
   "outputs": [
    {
     "name": "stdout",
     "output_type": "stream",
     "text": [
      "Name:-  Himanshu\n",
      "Employee ID :-  2451\n",
      "thankyou for joing ABC companyHimanshu !!\n"
     ]
    }
   ],
   "source": [
    "class Employee:\n",
    "    def __init__(self,name,empid):\n",
    "        self.name = name\n",
    "        self.empid = empid\n",
    "    def greet(self):\n",
    "        print(\"thankyou for joing ABC company{} !!\".format(self.name))\n",
    "\n",
    "emp1 =Employee('Himanshu',2451)\n",
    "\n",
    "print(\"Name:- \",emp1.name)\n",
    "print(\"Employee ID :- \",emp1.empid)\n",
    "emp1.greet()"
   ]
  },
  {
   "cell_type": "code",
   "execution_count": 5,
   "metadata": {},
   "outputs": [
    {
     "data": {
      "text/plain": [
       "'ANIKET'"
      ]
     },
     "execution_count": 5,
     "metadata": {},
     "output_type": "execute_result"
    }
   ],
   "source": [
    "emp1.name =\"ANIKET\"   # Modifying object\n",
    "emp1.name"
   ]
  },
  {
   "cell_type": "code",
   "execution_count": 6,
   "metadata": {},
   "outputs": [
    {
     "ename": "AttributeError",
     "evalue": "'Employee' object has no attribute 'empid'",
     "output_type": "error",
     "traceback": [
      "\u001b[1;31m---------------------------------------------------------------------------\u001b[0m",
      "\u001b[1;31mAttributeError\u001b[0m                            Traceback (most recent call last)",
      "Cell \u001b[1;32mIn [6], line 2\u001b[0m\n\u001b[0;32m      1\u001b[0m \u001b[39mdel\u001b[39;00m emp1\u001b[39m.\u001b[39mempid\n\u001b[1;32m----> 2\u001b[0m emp1\u001b[39m.\u001b[39;49mempid\n",
      "\u001b[1;31mAttributeError\u001b[0m: 'Employee' object has no attribute 'empid'"
     ]
    }
   ],
   "source": [
    "del emp1.empid   # Deleting object \n",
    "emp1.empid"
   ]
  },
  {
   "cell_type": "code",
   "execution_count": 7,
   "metadata": {},
   "outputs": [
    {
     "ename": "NameError",
     "evalue": "name 'emp1' is not defined",
     "output_type": "error",
     "traceback": [
      "\u001b[1;31m---------------------------------------------------------------------------\u001b[0m",
      "\u001b[1;31mNameError\u001b[0m                                 Traceback (most recent call last)",
      "Cell \u001b[1;32mIn [7], line 2\u001b[0m\n\u001b[0;32m      1\u001b[0m \u001b[39mdel\u001b[39;00m emp1\n\u001b[1;32m----> 2\u001b[0m emp1\n",
      "\u001b[1;31mNameError\u001b[0m: name 'emp1' is not defined"
     ]
    }
   ],
   "source": [
    "del emp1\n",
    "emp1"
   ]
  },
  {
   "cell_type": "code",
   "execution_count": 8,
   "metadata": {},
   "outputs": [
    {
     "name": "stdout",
     "output_type": "stream",
     "text": [
      "NAME:-  Sushil\n",
      "Employee Id :-  2525\n",
      "thankyou for joing ABC companySushil !!\n"
     ]
    }
   ],
   "source": [
    "emp2 = Employee(\"Sushil\",2525)\n",
    "\n",
    "print(\"NAME:- \",emp2.name)\n",
    "print(\"Employee Id :- \",emp2.empid)\n",
    "emp2.greet()"
   ]
  },
  {
   "cell_type": "code",
   "execution_count": 9,
   "metadata": {},
   "outputs": [
    {
     "data": {
      "text/plain": [
       "'INDIA'"
      ]
     },
     "execution_count": 9,
     "metadata": {},
     "output_type": "execute_result"
    }
   ],
   "source": [
    "emp2.country = 'INDIA'\n",
    "emp2.country"
   ]
  },
  {
   "cell_type": "code",
   "execution_count": 2,
   "metadata": {},
   "outputs": [
    {
     "name": "stdout",
     "output_type": "stream",
     "text": [
      "Student Details\n",
      "----------------\n",
      "Name :- Himanshu \n",
      "Age :- 24 \n",
      "gender :- Male \n",
      "studentid:- 123 \n",
      "Fess :- 1200 \n",
      "\n",
      "Employees Details\n",
      "------------------\n",
      "Name :- Arun \n",
      "Age :- 36 \n",
      "gender :- Male \n",
      "Emplpoyee ID :- 456 \n",
      "Salary :- 80000 \n"
     ]
    }
   ],
   "source": [
    "class Person():   #Parent class\n",
    "    def __init__(self,name,age,gender):\n",
    "        self.name = name\n",
    "        self.age = age\n",
    "        self.gender = gender\n",
    "    \n",
    "    def PersonInfo(self):\n",
    "        print(\"Name :- {} \".format(self.name))\n",
    "        print(\"Age :- {} \".format(self.age))\n",
    "        print(\"gender :- {} \".format(self.gender))\n",
    "\n",
    "\n",
    "class student(Person):  #Child class\n",
    "    def __init__(self,name,age,gender,studentid,fees):\n",
    "        Person.__init__(self,name,age,gender)\n",
    "        self.studentid = studentid\n",
    "        self.fees = fees\n",
    "    \n",
    "    def StudentInfo(self):\n",
    "            print(\"studentid:- {} \".format(self.studentid))\n",
    "            print(\"Fess :- {} \".format(self.fees))\n",
    "\n",
    "\n",
    "class teacher(Person):  #Child Class\n",
    "    def __init__(self, name, age, gender,empid,salary):\n",
    "        Person.__init__(self,name,age,gender)\n",
    "        self.empid = empid\n",
    "        self.salary = salary\n",
    "\n",
    "\n",
    "    def TeacherInfo(self):\n",
    "        print(\"Emplpoyee ID :- {} \".format(self.empid))\n",
    "        print(\"Salary :- {} \".format(self.salary))\n",
    "\n",
    "\n",
    "\n",
    "        \n",
    "stud1 = student(\"Himanshu\" , 24 , \"Male\" , 123 , 1200)\n",
    "print('Student Details')\n",
    "print('----------------')\n",
    "stud1.PersonInfo()\n",
    "stud1.StudentInfo()\n",
    "print()\n",
    "\n",
    "\n",
    "teacher1 = teacher('Arun' , 36 ,\"Male\" ,456 , 80000)\n",
    "print('Employees Details')\n",
    "print('------------------')\n",
    "teacher1.PersonInfo()\n",
    "teacher1.TeacherInfo()\n"
   ]
  },
  {
   "cell_type": "code",
   "execution_count": 4,
   "metadata": {},
   "outputs": [
    {
     "name": "stdout",
     "output_type": "stream",
     "text": [
      "Student Details\n",
      "--------------\n",
      "Nmae :- Himanshu \n",
      "Age :- 24 \n",
      "Gender :- Male\n",
      "Student ID :- 5000\n",
      "Fees :- 12000\n",
      "\n"
     ]
    }
   ],
   "source": [
    "class person: #Parent Class\n",
    "    def __init__(self,name,age,gender):\n",
    "        self.name = name\n",
    "        self.age = age\n",
    "        self.gender = gender\n",
    "    \n",
    "    def PersonInfo(self):\n",
    "        print(\"Nmae :- {} \".format(self.name))\n",
    "        print('Age :- {} '.format(self.age))\n",
    "        print(\"Gender :- {}\".format(self.gender))\n",
    "\n",
    "\n",
    "class Student(person):   #Child Class\n",
    "    def __init__(self, name, age, gender, studentid, fees):\n",
    "        person.__init__(self,name,age,gender)\n",
    "        self.studentid = studentid\n",
    "        self.fees = fees\n",
    "\n",
    "    def StudentInfo(self):\n",
    "        print('Student ID :- {}'.format(self.studentid))\n",
    "        print('Fees :- {}'.format(self.fees))\n",
    "\n",
    "\n",
    "stud1 = Student('Himanshu', 24 , 'Male', 5000, 12000)\n",
    "print('Student Details')\n",
    "print(\"--------------\")\n",
    "\n",
    "stud1.PersonInfo()\n",
    "stud1.StudentInfo()\n",
    "print() "
   ]
  },
  {
   "cell_type": "code",
   "execution_count": 5,
   "metadata": {},
   "outputs": [
    {
     "name": "stdout",
     "output_type": "stream",
     "text": [
      "Student Info\n",
      "Name :- Himanshu Pewal \n",
      "Age :- 22 \n",
      "Gender :- Male \n",
      "ID :- 2456 \n",
      "fees :- 8000 \n"
     ]
    }
   ],
   "source": [
    "#super() builtin function allows us to access method of the base class.\n",
    "\n",
    "class person:  #parent class\n",
    "    def __init__(self,name,age,gender):\n",
    "        self.name = name\n",
    "        self.age = age\n",
    "        self.gender = gender\n",
    "\n",
    "    def PersonInfo(self):\n",
    "        print(\"Name :- {} \".format(self.name))\n",
    "        print(\"Age :- {} \".format(self.age))\n",
    "        print(\"Gender :- {} \".format(self.gender))\n",
    "\n",
    "\n",
    "class student(person):  #Child Class\n",
    "    def __init__(self, name, age, gender, studentid, fees):\n",
    "        super().__init__(name, age, gender)\n",
    "        self.studentid = studentid\n",
    "        self.fees = fees\n",
    "\n",
    "\n",
    "    def StudentInfo(self):\n",
    "        super().PersonInfo()\n",
    "        print(\"ID :- {} \".format(self.studentid))\n",
    "        print(\"fees :- {} \".format(self.fees))\n",
    "\n",
    "stud1 = student('Himanshu Pewal', 22, \"Male\", 2456, 8000)\n",
    "print(\"Student Info\")\n",
    "stud1.StudentInfo()\n"
   ]
  },
  {
   "cell_type": "code",
   "execution_count": 7,
   "metadata": {},
   "outputs": [
    {
     "name": "stdout",
     "output_type": "stream",
     "text": [
      "My Name :-  Himanshu\n",
      "Father : Sushil\n",
      "Mother : Renu\n"
     ]
    }
   ],
   "source": [
    "class Father:\n",
    "    def __init__(self):\n",
    "        self.fathername = str()\n",
    "\n",
    "\n",
    "class Mother:\n",
    "    def __init__(self):\n",
    "        self.mothername = str()\n",
    "\n",
    "\n",
    "class Son(Father,Mother):\n",
    "    name = str()\n",
    "    def show(self):\n",
    "\n",
    "       print('My Name :- ',self.name)\n",
    "       print(\"Father :\", self.fathername)\n",
    "       print(\"Mother :\", self.mothername)\n",
    "\n",
    "s1 = Son()\n",
    "s1.name = \"Himanshu\"\n",
    "s1.fathername = \"Sushil\"\n",
    "s1.mothername = \"Renu\"\n",
    "     \n",
    "s1.show()"
   ]
  },
  {
   "cell_type": "code",
   "execution_count": 3,
   "metadata": {},
   "outputs": [
    {
     "name": "stdout",
     "output_type": "stream",
     "text": [
      "Himasnhu\n",
      "Arun\n",
      "college\n"
     ]
    },
    {
     "ename": "StopIteration",
     "evalue": "",
     "output_type": "error",
     "traceback": [
      "\u001b[1;31m---------------------------------------------------------------------------\u001b[0m",
      "\u001b[1;31mStopIteration\u001b[0m                             Traceback (most recent call last)",
      "Cell \u001b[1;32mIn [3], line 7\u001b[0m\n\u001b[0;32m      5\u001b[0m \u001b[39mprint\u001b[39m(\u001b[39mnext\u001b[39m(list_iter))\n\u001b[0;32m      6\u001b[0m \u001b[39mprint\u001b[39m(\u001b[39mnext\u001b[39m(list_iter))\n\u001b[1;32m----> 7\u001b[0m \u001b[39mprint\u001b[39m(\u001b[39mnext\u001b[39;49m(list_iter))\n",
      "\u001b[1;31mStopIteration\u001b[0m: "
     ]
    }
   ],
   "source": [
    "mylist = ['Himasnhu',\"Arun\",\"college\"]\n",
    "\n",
    "list_iter = iter(mylist)\n",
    "print(next(list_iter))\n",
    "print(next(list_iter))\n",
    "print(next(list_iter))\n",
    "print(next(list_iter))"
   ]
  },
  {
   "cell_type": "code",
   "execution_count": 4,
   "metadata": {},
   "outputs": [
    {
     "name": "stdout",
     "output_type": "stream",
     "text": [
      "Asif\n",
      "Basit\n",
      "John\n",
      "Michael\n"
     ]
    }
   ],
   "source": [
    "mylist = ['Asif' , 'Basit' , 'John' , 'Michael']\n",
    "list_iter = iter(mylist) \n",
    "print(list_iter.__next__())\n",
    "print(list_iter.__next__())\n",
    "print(list_iter.__next__())\n",
    "print(list_iter.__next__())\n"
   ]
  },
  {
   "cell_type": "code",
   "execution_count": 5,
   "metadata": {},
   "outputs": [
    {
     "name": "stdout",
     "output_type": "stream",
     "text": [
      "Asif\n",
      "Basit\n",
      "John\n",
      "Michael\n"
     ]
    }
   ],
   "source": [
    "mylist = ['Asif' , 'Basit' , 'John' , 'Michael']\n",
    "list_iter = iter(mylist)\n",
    "for i in list_iter:\n",
    "    print(i)\n"
   ]
  },
  {
   "cell_type": "code",
   "execution_count": 6,
   "metadata": {},
   "outputs": [
    {
     "name": "stdout",
     "output_type": "stream",
     "text": [
      "Asif\n",
      "Basit\n",
      "John\n",
      "Michael\n"
     ]
    }
   ],
   "source": [
    "mylist = ['Asif' , 'Basit' , 'John' , 'Michael']\n",
    "for i in mylist:\n",
    "    print(i)"
   ]
  },
  {
   "cell_type": "code",
   "execution_count": 13,
   "metadata": {},
   "outputs": [
    {
     "name": "stdout",
     "output_type": "stream",
     "text": [
      "1\n",
      "2\n",
      "3\n",
      "4\n",
      "5\n",
      "6\n",
      "7\n",
      "8\n",
      "9\n",
      "10\n"
     ]
    }
   ],
   "source": [
    "class mynum:\n",
    "    def __init__(self):\n",
    "        self.num = 0\n",
    "\n",
    "    def __iter__(self):\n",
    "        self.num = 1\n",
    "        return self\n",
    "    \n",
    "\n",
    "    def __next__(self):\n",
    "        if self.num <= 10:\n",
    "            val = self.num\n",
    "            self.num +=  1\n",
    "            return val\n",
    "        else:\n",
    "            raise StopIteration\n",
    "        \n",
    "\n",
    "        \n",
    "\n",
    "number = mynum()\n",
    "iter1 = iter(number)\n",
    "for i  in iter1:\n",
    "    print(i)\n",
    "\n",
    "\n"
   ]
  },
  {
   "cell_type": "code",
   "execution_count": 18,
   "metadata": {},
   "outputs": [
    {
     "name": "stdout",
     "output_type": "stream",
     "text": [
      "1\n",
      "3\n",
      "5\n",
      "7\n",
      "9\n",
      "11\n",
      "13\n",
      "15\n",
      "17\n",
      "19\n"
     ]
    }
   ],
   "source": [
    "class product:\n",
    "    def __init__(self):\n",
    "        self.num = 0\n",
    "\n",
    "\n",
    "    def __iter__(self):\n",
    "        self.num = 1\n",
    "        return self\n",
    "    \n",
    "    def __next__(self):\n",
    "        if self.num <= 20:\n",
    "            val = self.num\n",
    "            self.num += 2 \n",
    "            return val\n",
    "        else:\n",
    "            raise StopIteration\n",
    "        \n",
    "\n",
    "\n",
    "odds= product()\n",
    "iter1 =iter(odds)\n",
    "for i in odds:\n",
    "    print(i)"
   ]
  },
  {
   "cell_type": "code",
   "execution_count": 22,
   "metadata": {},
   "outputs": [
    {
     "name": "stdout",
     "output_type": "stream",
     "text": [
      "1\n",
      "1\n",
      "2\n",
      "3\n",
      "5\n",
      "8\n",
      "13\n",
      "21\n",
      "34\n"
     ]
    }
   ],
   "source": [
    "class myfibonacci:\n",
    "    def __init__(self):\n",
    "        self.prev = 0\n",
    "        self.cur = 0\n",
    "\n",
    "\n",
    "    def __iter__(self):\n",
    "        self.prev = 0\n",
    "        self.cur = 1\n",
    "        return self\n",
    "    \n",
    "    def __next__(self):\n",
    "        if self.cur <=50:\n",
    "            val = self.cur\n",
    "            self.cur += self.prev\n",
    "            self.prev = val\n",
    "            return val\n",
    "        \n",
    "        else: raise StopIteration\n",
    "\n",
    "myfib = myfibonacci()\n",
    "iter1 = iter(myfib)\n",
    "for  i in iter1:\n",
    "    print(i)\n"
   ]
  },
  {
   "cell_type": "code",
   "execution_count": 26,
   "metadata": {},
   "outputs": [
    {
     "name": "stdout",
     "output_type": "stream",
     "text": [
      "1\n",
      "1\n",
      "2\n",
      "3\n",
      "5\n",
      "8\n",
      "13\n",
      "21\n",
      "34\n"
     ]
    }
   ],
   "source": [
    "class fab:\n",
    "    def __init__(self) -> None:\n",
    "        self.prev = 0\n",
    "        self.cur = 0\n",
    "\n",
    "    def __iter__(self):\n",
    "        self.prev = 0\n",
    "        self.cur = 1\n",
    "        return self\n",
    "    \n",
    "    def __next__(self):\n",
    "        if self.cur <= 50:\n",
    "            val = self.cur\n",
    "            self.cur  += self.prev\n",
    "            self.prev = val\n",
    "            return val\n",
    "        else:\n",
    "            raise StopIteration\n",
    "        \n",
    "fabnums = fab()\n",
    "iter1 = iter(fabnums)\n",
    "for i in iter1:\n",
    "    print(i)\n"
   ]
  },
  {
   "cell_type": "code",
   "execution_count": 29,
   "metadata": {},
   "outputs": [],
   "source": [
    "def my_generator(x = 1):\n",
    "    while True:\n",
    "        yield x\n",
    "        x += 1\n"
   ]
  },
  {
   "cell_type": "code",
   "execution_count": 33,
   "metadata": {},
   "outputs": [
    {
     "name": "stdout",
     "output_type": "stream",
     "text": [
      "<class 'generator'>\n",
      "1 2 3 4 "
     ]
    },
    {
     "ename": "KeyboardInterrupt",
     "evalue": "",
     "output_type": "error",
     "traceback": [
      "\u001b[1;31m---------------------------------------------------------------------------\u001b[0m",
      "\u001b[1;31mKeyboardInterrupt\u001b[0m                         Traceback (most recent call last)",
      "Cell \u001b[1;32mIn [33], line 7\u001b[0m\n\u001b[0;32m      5\u001b[0m \u001b[39mfor\u001b[39;00m i \u001b[39min\u001b[39;00m gene:\n\u001b[0;32m      6\u001b[0m     \u001b[39mprint\u001b[39m(i,end \u001b[39m=\u001b[39m\u001b[39m'\u001b[39m\u001b[39m \u001b[39m\u001b[39m'\u001b[39m)\n\u001b[1;32m----> 7\u001b[0m     time\u001b[39m.\u001b[39;49msleep(\u001b[39m0.75\u001b[39;49m)\n",
      "\u001b[1;31mKeyboardInterrupt\u001b[0m: "
     ]
    }
   ],
   "source": [
    "import time\n",
    "gene = my_generator()\n",
    "print(type(gene))\n",
    "\n",
    "for i in gene:\n",
    "    print(i,end =' ')\n",
    "    time.sleep(0.75)"
   ]
  },
  {
   "cell_type": "code",
   "execution_count": 36,
   "metadata": {},
   "outputs": [
    {
     "name": "stdout",
     "output_type": "stream",
     "text": [
      "200\n",
      "<class 'generator'>\n",
      "0\n",
      "3\n"
     ]
    }
   ],
   "source": [
    "gene = (x for x in range(999))\n",
    "import sys\n",
    "print(sys.getsizeof(gene))\n",
    "print(type(gene))\n",
    "\n",
    "print(next(gene))\n",
    "next(gene)\n",
    "next(gene)\n",
    "print(next(gene))"
   ]
  },
  {
   "cell_type": "code",
   "execution_count": 38,
   "metadata": {},
   "outputs": [
    {
     "name": "stdout",
     "output_type": "stream",
     "text": [
      "1\n",
      "2\n",
      "3\n",
      "4\n",
      "5\n"
     ]
    },
    {
     "ename": "StopIteration",
     "evalue": "",
     "output_type": "error",
     "traceback": [
      "\u001b[1;31m---------------------------------------------------------------------------\u001b[0m",
      "\u001b[1;31mStopIteration\u001b[0m                             Traceback (most recent call last)",
      "Cell \u001b[1;32mIn [38], line 29\u001b[0m\n\u001b[0;32m     27\u001b[0m \u001b[39mprint\u001b[39m(\u001b[39mnext\u001b[39m(mygen1))\n\u001b[0;32m     28\u001b[0m \u001b[39mprint\u001b[39m(\u001b[39mnext\u001b[39m(mygen1))\n\u001b[1;32m---> 29\u001b[0m \u001b[39mprint\u001b[39m(\u001b[39mnext\u001b[39;49m(mygen1))\n\u001b[0;32m     30\u001b[0m \u001b[39mprint\u001b[39m(\u001b[39mnext\u001b[39m(mygen1))\n",
      "\u001b[1;31mStopIteration\u001b[0m: "
     ]
    }
   ],
   "source": [
    "def mygen():\n",
    "    n = 1\n",
    "    yield n\n",
    "\n",
    "    n +=1\n",
    "    yield n\n",
    "\n",
    "\n",
    "    n+=1\n",
    "    yield n\n",
    "\n",
    "\n",
    "    n+=1\n",
    "    yield n\n",
    "\n",
    "\n",
    "    n+=1\n",
    "    yield n\n",
    "\n",
    "\n",
    "\n",
    "mygen1 = mygen()\n",
    "\n",
    "print(next(mygen1))\n",
    "print(next(mygen1))\n",
    "print(next(mygen1))\n",
    "print(next(mygen1))\n",
    "print(next(mygen1))\n",
    "print(next(mygen1))\n",
    "print(next(mygen1))\n"
   ]
  },
  {
   "cell_type": "code",
   "execution_count": 39,
   "metadata": {},
   "outputs": [
    {
     "name": "stdout",
     "output_type": "stream",
     "text": [
      "1\n",
      "2\n",
      "3\n",
      "4\n",
      "5\n",
      "6\n",
      "7\n",
      "8\n",
      "9\n",
      "10\n",
      "11\n",
      "12\n",
      "13\n",
      "14\n",
      "15\n",
      "16\n",
      "17\n",
      "18\n",
      "19\n"
     ]
    }
   ],
   "source": [
    "def mygen():\n",
    "    for i in range(1,20):\n",
    "        yield i\n",
    "\n",
    "mygen1 = mygen()\n",
    "\n",
    "for i in mygen1:\n",
    "    print(i)\n"
   ]
  },
  {
   "cell_type": "code",
   "execution_count": 40,
   "metadata": {},
   "outputs": [
    {
     "data": {
      "text/plain": [
       "[1, 2, 3, 4, 5, 6, 7, 8, 9, 10, 11, 12, 13, 14, 15, 16, 17, 18, 19]"
      ]
     },
     "execution_count": 40,
     "metadata": {},
     "output_type": "execute_result"
    }
   ],
   "source": [
    "num = list(mygen())\n",
    "num"
   ]
  },
  {
   "cell_type": "code",
   "execution_count": 44,
   "metadata": {},
   "outputs": [
    {
     "name": "stdout",
     "output_type": "stream",
     "text": [
      "0\n",
      "1\n",
      "1\n",
      "2\n",
      "3\n",
      "5\n",
      "8\n",
      "13\n",
      "21\n",
      "34\n"
     ]
    }
   ],
   "source": [
    "def myfibo():\n",
    "    num1,num2 = 0,1\n",
    "    count = 0\n",
    "    while count <10:\n",
    "        yield num1\n",
    "        num1,num2 = num2,num1+num2\n",
    "        count+=1\n",
    "\n",
    "fibo = myfibo()\n",
    "\n",
    "for i in fibo:\n",
    "    print(i)"
   ]
  },
  {
   "cell_type": "code",
   "execution_count": 45,
   "metadata": {},
   "outputs": [
    {
     "data": {
      "text/plain": [
       "[0, 1, 1, 2, 3, 5, 8, 13, 21, 34]"
      ]
     },
     "execution_count": 45,
     "metadata": {},
     "output_type": "execute_result"
    }
   ],
   "source": [
    "list1= list(myfibo())\n",
    "list1"
   ]
  },
  {
   "cell_type": "code",
   "execution_count": 46,
   "metadata": {},
   "outputs": [
    {
     "data": {
      "text/plain": [
       "[0, 1, 4, 9, 16, 25, 36, 49, 64, 81]"
      ]
     },
     "execution_count": 46,
     "metadata": {},
     "output_type": "execute_result"
    }
   ],
   "source": [
    "list2 = [i**2 for i in range(10)]\n",
    "list2"
   ]
  },
  {
   "cell_type": "code",
   "execution_count": 61,
   "metadata": {},
   "outputs": [
    {
     "data": {
      "text/plain": [
       "<generator object <genexpr> at 0x000001C705418FB0>"
      ]
     },
     "execution_count": 61,
     "metadata": {},
     "output_type": "execute_result"
    }
   ],
   "source": [
    "gen2 = (i**2 for i in range(10))\n",
    "gen2"
   ]
  },
  {
   "cell_type": "code",
   "execution_count": 62,
   "metadata": {},
   "outputs": [
    {
     "name": "stdout",
     "output_type": "stream",
     "text": [
      "0\n",
      "1\n"
     ]
    }
   ],
   "source": [
    "print(next(gen2))\n",
    "print(next(gen2))\n",
    "\n",
    "\n",
    "\n",
    "\n",
    "\n"
   ]
  },
  {
   "cell_type": "markdown",
   "metadata": {},
   "source": [
    "DECORATOR"
   ]
  },
  {
   "cell_type": "code",
   "execution_count": 64,
   "metadata": {},
   "outputs": [
    {
     "name": "stdout",
     "output_type": "stream",
     "text": [
      "Result :-  -2\n",
      "Result :-  2\n"
     ]
    }
   ],
   "source": [
    "def subtract(num1,num2):\n",
    "    res = num1-num2\n",
    "\n",
    "    print(\"Result :- \",res)\n",
    "\n",
    "subtract(2,4)\n",
    "subtract(4,2)"
   ]
  },
  {
   "cell_type": "code",
   "execution_count": 66,
   "metadata": {},
   "outputs": [
    {
     "name": "stdout",
     "output_type": "stream",
     "text": [
      "Result :-  2\n"
     ]
    }
   ],
   "source": [
    "def sub_decorator(func):\n",
    "    def wrapper(num1,num2):\n",
    "        if num1<num2:\n",
    "            num1,num2 = num2,num1\n",
    "\n",
    "            return func(num1,num2)\n",
    "        \n",
    "    return wrapper\n",
    "    \n",
    "sub = sub_decorator(subtract)\n",
    "\n",
    "sub(2,4)"
   ]
  },
  {
   "cell_type": "code",
   "execution_count": 67,
   "metadata": {},
   "outputs": [
    {
     "name": "stdout",
     "output_type": "stream",
     "text": [
      "say printer hello\n",
      "Hello\n",
      "you are beautyful\n"
     ]
    }
   ],
   "source": [
    "def printer():\n",
    "    print(\"Hello\")\n",
    "\n",
    "def display(func):\n",
    "    def inner():\n",
    "\n",
    "        print(\"say\",func.__name__,'hello')\n",
    "        func()\n",
    "        print(\"you are beautyful\")\n",
    "\n",
    "    return inner\n",
    "decorated_func = display(printer)\n",
    "decorated_func()\n"
   ]
  },
  {
   "cell_type": "code",
   "execution_count": 70,
   "metadata": {},
   "outputs": [
    {
     "name": "stdout",
     "output_type": "stream",
     "text": [
      "I realy hit you that hard are you fine?\n",
      "sorry!\n",
      "from botom of my heart\n"
     ]
    }
   ],
   "source": [
    "def display(func):\n",
    "    def inner():\n",
    "        print(\"I realy hit you that\",func.__name__,\"are you fine?\")\n",
    "        func()\n",
    "        print(\"from botom of my heart\")\n",
    "\n",
    "    return inner\n",
    "\n",
    "@display\n",
    "def hard():\n",
    "    print(\"sorry!\")\n",
    "\n",
    "hard()"
   ]
  },
  {
   "cell_type": "code",
   "execution_count": 71,
   "metadata": {},
   "outputs": [
    {
     "name": "stdout",
     "output_type": "stream",
     "text": [
      "please accept terms and conditions\n",
      "Linux installation has started \n",
      "\n",
      "please accept terms and conditions\n",
      "Windows installion has started \n",
      " \n",
      "please accept terms and conditions\n",
      "Mac installation has started \n",
      "\n"
     ]
    }
   ],
   "source": [
    "def InstallDecorator(func):\n",
    "    def wrapper():\n",
    "        print(\"please accept terms and conditions\")\n",
    "        return func()\n",
    "    return wrapper()\n",
    "\n",
    "@InstallDecorator\n",
    "\n",
    "def InstallLinux():\n",
    "    print(\"Linux installation has started \\n\")\n",
    "\n",
    "@InstallDecorator\n",
    "\n",
    "def InstallWindow():\n",
    "    print(\"Windows installion has started \\n \")\n",
    "\n",
    "@InstallDecorator\n",
    "    \n",
    "def InstallMac():\n",
    "    print(\"Mac installation has started \\n\")\n",
    "\n",
    "\n",
    "\n",
    "\n",
    "\n",
    "\n",
    "\n",
    "\n"
   ]
  },
  {
   "cell_type": "code",
   "execution_count": 76,
   "metadata": {},
   "outputs": [
    {
     "name": "stdout",
     "output_type": "stream",
     "text": [
      "please accept terms & conditons...\n",
      " \n",
      "please enter correct license key...\n",
      " \n",
      "please enter partitoning choice...\n",
      " \n",
      "Linux installation has started \n",
      "\n"
     ]
    }
   ],
   "source": [
    "def InstallDacorator1(func):\n",
    "    def wrapper():\n",
    "        print(\"please accept terms & conditons...\\n \")\n",
    "        func()\n",
    "    return wrapper\n",
    "\n",
    "def InstallDacorator2(func):\n",
    "    def wrapper():\n",
    "        print(\"please enter correct license key...\\n \")\n",
    "        func()\n",
    "    return wrapper\n",
    "    \n",
    "def InstallDacorator3(func):\n",
    "    def wrapper():\n",
    "        print(\"please enter partitoning choice...\\n \")\n",
    "        func()\n",
    "    return wrapper\n",
    "\n",
    "@InstallDacorator1\n",
    "@InstallDacorator2\n",
    "@InstallDacorator3\n",
    "def InstallLinux():\n",
    "    print(\"Linux installation has started \\n\")\n",
    "\n",
    "\n",
    "InstallLinux()\n"
   ]
  }
 ],
 "metadata": {
  "kernelspec": {
   "display_name": "Python 3.11.0 64-bit",
   "language": "python",
   "name": "python3"
  },
  "language_info": {
   "codemirror_mode": {
    "name": "ipython",
    "version": 3
   },
   "file_extension": ".py",
   "mimetype": "text/x-python",
   "name": "python",
   "nbconvert_exporter": "python",
   "pygments_lexer": "ipython3",
   "version": "3.11.0"
  },
  "orig_nbformat": 4,
  "vscode": {
   "interpreter": {
    "hash": "39146e1c3fe0c46629a472b03c8b1aaf61ea6ebc995f092bdf546c91cbc598cf"
   }
  }
 },
 "nbformat": 4,
 "nbformat_minor": 2
}
